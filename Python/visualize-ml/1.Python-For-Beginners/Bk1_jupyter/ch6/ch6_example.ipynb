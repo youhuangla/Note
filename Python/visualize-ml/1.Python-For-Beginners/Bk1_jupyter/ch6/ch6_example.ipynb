{
 "cells": [
  {
   "cell_type": "code",
   "execution_count": 1,
   "id": "5c73e5d4-a738-48c0-a8d6-bd88483a11ff",
   "metadata": {},
   "outputs": [
    {
     "name": "stdout",
     "output_type": "stream",
     "text": [
      "1010101010\n",
      "20.020.020.020.020.0\n"
     ]
    }
   ],
   "source": [
    "str_a = \"10\"\n",
    "str_b = \"20.0\"\n",
    "str_c = str_a * 5\n",
    "str_d = str_b * 5\n",
    "print(str_c)\n",
    "print(str_d)"
   ]
  },
  {
   "cell_type": "code",
   "execution_count": 2,
   "id": "cb8fd416-63f2-4dd2-b5a8-1bea22043e2d",
   "metadata": {},
   "outputs": [
    {
     "name": "stdout",
     "output_type": "stream",
     "text": [
      "125\n"
     ]
    }
   ],
   "source": [
    "a = 5\n",
    "a **= 3\n",
    "print(a)"
   ]
  },
  {
   "cell_type": "code",
   "execution_count": 3,
   "id": "b7e2888d-160f-4418-8a4a-c7bde3af609d",
   "metadata": {},
   "outputs": [
    {
     "name": "stdout",
     "output_type": "stream",
     "text": [
      "True\n",
      "False\n",
      "False\n",
      "True\n"
     ]
    }
   ],
   "source": [
    "my_list = [1, 2, 3, 4, 5]\n",
    "\n",
    "print(3 in my_list)\n",
    "print(6 in my_list)\n",
    "\n",
    "print(3 not in my_list)\n",
    "print(6 not in my_list)"
   ]
  },
  {
   "cell_type": "code",
   "execution_count": 4,
   "id": "744ab879-3817-4861-b659-fdfb5c78333f",
   "metadata": {},
   "outputs": [
    {
     "name": "stdout",
     "output_type": "stream",
     "text": [
      "True\n",
      "True\n",
      "True\n",
      "True\n",
      "False\n",
      "True\n",
      "False\n",
      "False\n"
     ]
    }
   ],
   "source": [
    "import copy\n",
    "a = [1, 2, 3]\n",
    "b = a\n",
    "\n",
    "c = [1, 2, 3]\n",
    "d = a.copy()\n",
    "\n",
    "print(a is b)\n",
    "print(a is not c)\n",
    "print(a == c)\n",
    "print(a == d)\n",
    "\n",
    "a_2_layers = [1, 2, [3, 4]]\n",
    "d_2_layers = a_2_layers.copy()\n",
    "e_2_layers = copy.deepcopy(a_2_layers)\n",
    "\n",
    "print(a_2_layers is d_2_layers)\n",
    "print(a_2_layers[2] is d_2_layers[2])\n",
    "\n",
    "print(a_2_layers is e_2_layers)\n",
    "print(a_2_layers[2] is e_2_layers[2])"
   ]
  },
  {
   "cell_type": "code",
   "execution_count": null,
   "id": "6f01d3f0-d297-489b-9a71-1ab7c3b9eb11",
   "metadata": {},
   "outputs": [],
   "source": []
  }
 ],
 "metadata": {
  "kernelspec": {
   "display_name": "Python 3",
   "language": "python",
   "name": "python3"
  },
  "language_info": {
   "codemirror_mode": {
    "name": "ipython",
    "version": 3
   },
   "file_extension": ".py",
   "mimetype": "text/x-python",
   "name": "python",
   "nbconvert_exporter": "python",
   "pygments_lexer": "ipython3",
   "version": "3.10.9"
  }
 },
 "nbformat": 4,
 "nbformat_minor": 5
}
