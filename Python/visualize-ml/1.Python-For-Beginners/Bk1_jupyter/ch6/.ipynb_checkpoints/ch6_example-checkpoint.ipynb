{
 "cells": [
  {
   "cell_type": "code",
   "execution_count": 1,
   "id": "5c73e5d4-a738-48c0-a8d6-bd88483a11ff",
   "metadata": {},
   "outputs": [
    {
     "name": "stdout",
     "output_type": "stream",
     "text": [
      "1010101010\n",
      "20.020.020.020.020.0\n"
     ]
    }
   ],
   "source": [
    "str_a = \"10\"\n",
    "str_b = \"20.0\"\n",
    "str_c = str_a * 5\n",
    "str_d = str_b * 5\n",
    "print(str_c)\n",
    "print(str_d)"
   ]
  },
  {
   "cell_type": "code",
   "execution_count": 2,
   "id": "cb8fd416-63f2-4dd2-b5a8-1bea22043e2d",
   "metadata": {},
   "outputs": [
    {
     "name": "stdout",
     "output_type": "stream",
     "text": [
      "125\n"
     ]
    }
   ],
   "source": [
    "a = 5\n",
    "a **= 3\n",
    "print(a)"
   ]
  },
  {
   "cell_type": "code",
   "execution_count": null,
   "id": "b7e2888d-160f-4418-8a4a-c7bde3af609d",
   "metadata": {},
   "outputs": [],
   "source": []
  }
 ],
 "metadata": {
  "kernelspec": {
   "display_name": "Python 3",
   "language": "python",
   "name": "python3"
  },
  "language_info": {
   "codemirror_mode": {
    "name": "ipython",
    "version": 3
   },
   "file_extension": ".py",
   "mimetype": "text/x-python",
   "name": "python",
   "nbconvert_exporter": "python",
   "pygments_lexer": "ipython3",
   "version": "3.10.9"
  }
 },
 "nbformat": 4,
 "nbformat_minor": 5
}
