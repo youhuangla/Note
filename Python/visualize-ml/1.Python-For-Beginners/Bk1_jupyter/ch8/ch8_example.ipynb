{
 "cells": [
  {
   "cell_type": "code",
   "execution_count": 1,
   "id": "5bac5985-5421-456f-9b96-dc7376041685",
   "metadata": {},
   "outputs": [
    {
     "data": {
      "image/png": "[encoded data removed]",
      "text/plain": [
       "<Figure size 400x400 with 1 Axes>"
      ]
     },
     "metadata": {},
     "output_type": "display_data"
    },
    {
     "data": {
      "image/png": "[encoded data removed]",
      "text/plain": [
       "<Figure size 400x400 with 1 Axes>"
      ]
     },
     "metadata": {},
     "output_type": "display_data"
    }
   ],
   "source": [
    "import matplotlib.pyplot as plt\n",
    "\n",
    "import numpy as np\n",
    "\n",
    "def beautiful_line_chart():\n",
    "    plt.xlabel(\"x\")\n",
    "    plt.ylabel(\"y\")\n",
    "    \n",
    "    plt.xlim(-2, 2)\n",
    "    plt.ylim(-2, 2)\n",
    "    \n",
    "    plt.xticks([-2, -1, 0, 1, 2])\n",
    "    plt.yticks([-2, -1, 0, 1, 2])\n",
    "    \n",
    "    plt.grid(True)\n",
    "    \n",
    "    plt.gca().set_aspect('equal', adjustable = 'box')\n",
    "    \n",
    "    plt.show()\n",
    "    \n",
    "x_array = np.linspace(-2, 2, 101)\n",
    "\n",
    "fig, ax = plt.subplots(figsize = (4, 4))\n",
    "\n",
    "y_array = x_array\n",
    "plt.plot(x_array, y_array)\n",
    "beautiful_line_chart()\n",
    "\n",
    "fig, ax = plt.subplots(figsize = (4, 4))\n",
    "y_array = x_array ** 2 - 2\n",
    "plt.plot(x_array, y_array)\n",
    "beautiful_line_chart()"
   ]
  },
  {
   "cell_type": "code",
   "execution_count": 1,
   "id": "dd952a5e-7372-4849-87e4-46c71750b9d4",
   "metadata": {},
   "outputs": [
    {
     "name": "stdout",
     "output_type": "stream",
     "text": [
      "8\n"
     ]
    }
   ],
   "source": [
    "def add_numbers(a, b):\n",
    "    result = a + b\n",
    "    return result\n",
    "\n",
    "sum = add_numbers(3, 5)\n",
    "print(sum)"
   ]
  },
  {
   "cell_type": "code",
   "execution_count": 2,
   "id": "283b7352-a158-4ed3-ac64-55b3fea347a5",
   "metadata": {},
   "outputs": [
    {
     "name": "stdout",
     "output_type": "stream",
     "text": [
      "Addition:  15\n",
      "Subtraction:  5\n",
      "Multiplication:  50\n",
      "Division:  2.0\n"
     ]
    }
   ],
   "source": [
    "def arithmetic_operations(a, b):\n",
    "    add = a + b\n",
    "    sub = a - b\n",
    "    mul = a * b\n",
    "    div = a / b\n",
    "    return add, sub, mul, div \n",
    "\n",
    "a, b = 10, 5\n",
    "result = arithmetic_operations(a, b)\n",
    "\n",
    "print(\"Addition: \", result[0])\n",
    "print(\"Subtraction: \", result[1])\n",
    "print(\"Multiplication: \", result[2])\n",
    "print(\"Division: \", result[3])"
   ]
  },
  {
   "cell_type": "code",
   "execution_count": 3,
   "id": "a12e0d57-05e8-4bb1-9015-18e23fa8b3a0",
   "metadata": {},
   "outputs": [
    {
     "name": "stdout",
     "output_type": "stream",
     "text": [
      "Hello, James!\n",
      "Good morning, James!\n"
     ]
    }
   ],
   "source": [
    "def greet(name, greeting = 'Hello'):\n",
    "    print(f\"{greeting}, {name}!\")\n",
    "    \n",
    "greet('James')\n",
    "\n",
    "greet('James', 'Good morning')"
   ]
  },
  {
   "cell_type": "code",
   "execution_count": 10,
   "id": "19ef83d1-153d-4386-be76-775445e0d8a2",
   "metadata": {},
   "outputs": [
    {
     "name": "stdout",
     "output_type": "stream",
     "text": [
      "A @ B = \n",
      "[1010, 404]\n",
      "[2424, 1010]\n",
      "X @ Y = \n",
      "[1, 2, 3]\n",
      "[2, 4, 6]\n",
      "[3, 6, 9]\n"
     ]
    },
    {
     "data": {
      "text/plain": [
       "'\\nX = [[1, 2, 10, 20],\\n     [3, 4, 30, 40]]\\nY = [[4, 2],\\n    [3, 1]]\\nC = matrix_multiplication(X, Y) # raise Value error\\n'"
      ]
     },
     "execution_count": 10,
     "metadata": {},
     "output_type": "execute_result"
    }
   ],
   "source": [
    "def matrix_multiplication(A, B):\n",
    "    if len(A[0]) != len(B):\n",
    "        raise ValueError(\"Error: check matrix sizes\")\n",
    "    else:\n",
    "        C = [[0] * len(B[0]) for i in range(len(A))]\n",
    "        for i in range(len(A)):\n",
    "            for j in range(len(B[0])):\n",
    "                for k in range(len(B)):\n",
    "                    C[i][j] += A[i][k] * B[k][j]\n",
    "        return C\n",
    "\n",
    "A = [[1, 2, 10, 20],\n",
    "     [3, 4, 30, 40]]\n",
    "B = [[4, 2],\n",
    "     [3, 1],\n",
    "     [40, 20],\n",
    "     [30, 10]]\n",
    "\n",
    "C = matrix_multiplication(A, B)\n",
    "print('A @ B = ')\n",
    "for row in C:\n",
    "    print(row)\n",
    "    \n",
    "X = [[1], [2], [3]]\n",
    "Y = [[1, 2, 3]]\n",
    "\n",
    "print('X @ Y = ')\n",
    "Z = matrix_multiplication(X, Y)\n",
    "for row in Z:\n",
    "    print(row)\n",
    "'''\n",
    "X = [[1, 2, 10, 20],\n",
    "     [3, 4, 30, 40]]\n",
    "Y = [[4, 2],\n",
    "    [3, 1]]\n",
    "C = matrix_multiplication(X, Y) # raise Value error\n",
    "'''"
   ]
  },
  {
   "cell_type": "code",
   "execution_count": null,
   "id": "7a1140da-d19e-4bdb-b829-616a899e0606",
   "metadata": {},
   "outputs": [],
   "source": []
  }
 ],
 "metadata": {
  "kernelspec": {
   "display_name": "Python 3",
   "language": "python",
   "name": "python3"
  },
  "language_info": {
   "codemirror_mode": {
    "name": "ipython",
    "version": 3
   },
   "file_extension": ".py",
   "mimetype": "text/x-python",
   "name": "python",
   "nbconvert_exporter": "python",
   "pygments_lexer": "ipython3",
   "version": "3.10.9"
  }
 },
 "nbformat": 4,
 "nbformat_minor": 5
}
