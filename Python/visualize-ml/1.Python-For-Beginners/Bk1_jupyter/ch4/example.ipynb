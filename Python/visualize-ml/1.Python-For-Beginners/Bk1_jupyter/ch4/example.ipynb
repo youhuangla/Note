{
 "cells": [
  {
   "cell_type": "code",
   "execution_count": 2,
   "id": "706516e9-85ff-49c2-a786-05575b1f70aa",
   "metadata": {},
   "outputs": [
    {
     "name": "stdout",
     "output_type": "stream",
     "text": [
      "[0 1 2 3 4 5 6 7 8 9]\n"
     ]
    }
   ],
   "source": [
    "import numpy as np\n",
    "# 导入\n",
    "\n",
    "x_array = np.arange(10)\n",
    "\n",
    "print(x_array)"
   ]
  },
  {
   "cell_type": "code",
   "execution_count": 3,
   "id": "f96965cf-3ca6-453f-af05-aa3d016ff8dd",
   "metadata": {},
   "outputs": [
    {
     "name": "stdin",
     "output_type": "stream",
     "text": [
      "Please input a number:  -1\n"
     ]
    },
    {
     "name": "stdout",
     "output_type": "stream",
     "text": [
      "x is negative\n",
      "The absolute value is:  1.0\n"
     ]
    }
   ],
   "source": [
    "x = float(input(\"Please input a number: \"))\n",
    "\n",
    "abs_x = x\n",
    "\n",
    "if x > 0:\n",
    "    print(\"x is positive\")\n",
    "elif x == 0:\n",
    "    print(\"x is zero\")\n",
    "else:\n",
    "    print(\"x is negative\")\n",
    "    abs_x = -x\n",
    "print(\"The absolute value is: \", abs_x)"
   ]
  },
  {
   "cell_type": "code",
   "execution_count": 4,
   "id": "1ac18969-89d4-4ef8-b5d3-d4a1ee0c85db",
   "metadata": {},
   "outputs": [
    {
     "name": "stdout",
     "output_type": "stream",
     "text": [
      "P\n",
      "y\n",
      "t\n",
      "h\n",
      "o\n",
      "n\n",
      " \n",
      "3\n",
      ".\n",
      "X\n",
      " \n",
      "i\n",
      "s\n",
      " \n",
      "e\n",
      "a\n",
      "s\n",
      "y\n",
      "!\n"
     ]
    }
   ],
   "source": [
    "x_string = 'Python 3.X is easy!'\n",
    "\n",
    "for i_str in x_string:\n",
    "    print(i_str)"
   ]
  },
  {
   "cell_type": "code",
   "execution_count": 6,
   "id": "8c670913-b646-46c4-b3c2-2f230492a454",
   "metadata": {},
   "outputs": [
    {
     "name": "stdout",
     "output_type": "stream",
     "text": [
      "0\n",
      "1\n",
      "1\n",
      "2\n",
      "3\n",
      "5\n",
      "8\n",
      "13\n",
      "21\n",
      "34\n"
     ]
    }
   ],
   "source": [
    "def fibonacci(n):\n",
    "    if n <= 1:\n",
    "        return n\n",
    "    else:\n",
    "        return fibonacci(n - 1) + fibonacci(n - 2)\n",
    "\n",
    "for i in range(10):\n",
    "    print(fibonacci(i))"
   ]
  },
  {
   "cell_type": "code",
   "execution_count": null,
   "id": "576f5f2b-0857-4292-8e19-b45beeca4b75",
   "metadata": {},
   "outputs": [],
   "source": []
  }
 ],
 "metadata": {
  "kernelspec": {
   "display_name": "Python 3",
   "language": "python",
   "name": "python3"
  },
  "language_info": {
   "codemirror_mode": {
    "name": "ipython",
    "version": 3
   },
   "file_extension": ".py",
   "mimetype": "text/x-python",
   "name": "python",
   "nbconvert_exporter": "python",
   "pygments_lexer": "ipython3",
   "version": "3.10.9"
  }
 },
 "nbformat": 4,
 "nbformat_minor": 5
}
