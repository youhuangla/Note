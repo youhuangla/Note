{
 "cells": [
  {
   "cell_type": "code",
   "execution_count": 1,
   "id": "706516e9-85ff-49c2-a786-05575b1f70aa",
   "metadata": {},
   "outputs": [],
   "source": [
    "import numpy as np\n",
    "# 导入\n",
    "\n",
    "x_array = np.arange(10)"
   ]
  }
 ],
 "metadata": {
  "kernelspec": {
   "display_name": "Python 3",
   "language": "python",
   "name": "python3"
  },
  "language_info": {
   "codemirror_mode": {
    "name": "ipython",
    "version": 3
   },
   "file_extension": ".py",
   "mimetype": "text/x-python",
   "name": "python",
   "nbconvert_exporter": "python",
   "pygments_lexer": "ipython3",
   "version": "3.10.9"
  }
 },
 "nbformat": 4,
 "nbformat_minor": 5
}
