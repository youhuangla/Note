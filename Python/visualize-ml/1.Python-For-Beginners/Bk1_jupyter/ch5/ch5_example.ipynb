{
 "cells": [
  {
   "cell_type": "code",
   "execution_count": 1,
   "id": "56c6fb9b-0a3b-4356-96ab-f837d168e2be",
   "metadata": {},
   "outputs": [
    {
     "name": "stdout",
     "output_type": "stream",
     "text": [
      "<class 'int'>\n",
      "<class 'float'>\n",
      "<class 'complex'>\n"
     ]
    }
   ],
   "source": [
    "x = 42\n",
    "y = -3.14\n",
    "z = 2 + 3j\n",
    "\n",
    "print(type(x))\n",
    "print(type(y))\n",
    "print(type(z))"
   ]
  },
  {
   "cell_type": "code",
   "execution_count": 4,
   "id": "a6a6f106-42d3-47ed-93fe-76f96358e804",
   "metadata": {},
   "outputs": [
    {
     "name": "stdout",
     "output_type": "stream",
     "text": [
      "42\n",
      "(3+0j)\n",
      "42.0\n"
     ]
    }
   ],
   "source": [
    "x = 42.0\n",
    "y = 3\n",
    "\n",
    "x_to_int = int(x)\n",
    "print(x_to_int)\n",
    "\n",
    "y_to_complex = complex(y)\n",
    "print(y_to_complex)\n",
    "\n",
    "x_to_str = str(x)\n",
    "print(x_to_str)"
   ]
  },
  {
   "cell_type": "code",
   "execution_count": 5,
   "id": "5646149b-bdab-41ca-9173-976979a54b6c",
   "metadata": {},
   "outputs": [
    {
     "name": "stdout",
     "output_type": "stream",
     "text": [
      "3.141592653589793\n",
      "2.718281828459045\n",
      "1.4142135623730951\n"
     ]
    }
   ],
   "source": [
    "import math\n",
    "\n",
    "print(math.pi)\n",
    "print(math.e)\n",
    "print(math.sqrt(2))"
   ]
  },
  {
   "cell_type": "code",
   "execution_count": 6,
   "id": "d82f67a3-95ab-49c6-89cc-684f292a4fb5",
   "metadata": {},
   "outputs": [
    {
     "name": "stdout",
     "output_type": "stream",
     "text": [
      "I am learning Python!\n",
      "Python and Machine Learning are fun.\n",
      "Hey, James!\n",
      "Scikit-Learn is fun! Scikit-Learn is fun! Scikit-Learn is fun! \n",
      "123123123\n",
      "456123\n",
      "<class 'str'>\n"
     ]
    }
   ],
   "source": [
    "str1 = 'I am learning Python!'\n",
    "print(str1)\n",
    "\n",
    "str2 = \"Python and Machine Learning are fun.\"\n",
    "print(str2)\n",
    "\n",
    "str4 = 'Hey, ' + 'James!'\n",
    "print(str4)\n",
    "\n",
    "str5 = 'Scikit-Learn is fun! '\n",
    "str6 = str5 * 3\n",
    "print(str6)\n",
    "\n",
    "str7 = '123'\n",
    "str8 = str7 * 3\n",
    "print(str8)\n",
    "\n",
    "str9 = '456'\n",
    "str10 = str9 + str7\n",
    "print(str10)\n",
    "print(type(str10))"
   ]
  },
  {
   "cell_type": "code",
   "execution_count": 8,
   "id": "4fc0f4d2-2a61-452b-8b2d-fbc5caa3768d",
   "metadata": {},
   "outputs": [
    {
     "name": "stdout",
     "output_type": "stream",
     "text": [
      "The length of string is: 11\n",
      "char: H, index: 0\n",
      "char: e, index: 1\n",
      "char: y, index: 2\n",
      "char: ,, index: 3\n",
      "char:  , index: 4\n",
      "char: J, index: 5\n",
      "char: a, index: 6\n",
      "char: m, index: 7\n",
      "char: e, index: 8\n",
      "char: s, index: 9\n",
      "char: !, index: 10\n",
      "H\n",
      "e\n",
      "!\n",
      "s\n",
      "Hey\n",
      "ey, J\n",
      "Hy ae!\n",
      "!semaJ ,yeH\n"
     ]
    }
   ],
   "source": [
    "greeting_str = 'Hey, James!'\n",
    "\n",
    "print('The length of string is: ' + str(len(greeting_str)))\n",
    "\n",
    "for index, char in enumerate(greeting_str):\n",
    "    print(f\"char: {char}, index: {index}\")\n",
    "    \n",
    "print(greeting_str[0])\n",
    "print(greeting_str[1])\n",
    "\n",
    "print(greeting_str[-1])\n",
    "print(greeting_str[-2])\n",
    "\n",
    "# slice\n",
    "print(greeting_str[:3])\n",
    "\n",
    "print(greeting_str[1:6])\n",
    "\n",
    "print(greeting_str[::2])\n",
    "\n",
    "print(greeting_str[::-1])"
   ]
  },
  {
   "cell_type": "code",
   "execution_count": 11,
   "id": "24cecc99-d1ed-4985-81ff-6fc949e66dba",
   "metadata": {},
   "outputs": [
    {
     "name": "stdout",
     "output_type": "stream",
     "text": [
      "The length of list is 7\n",
      "item: 1, index: 0, type: <class 'int'>\n",
      "item: 1.0, index: 1, type: <class 'float'>\n",
      "item: 1, index: 2, type: <class 'str'>\n",
      "item: True, index: 3, type: <class 'bool'>\n",
      "item: [1, 1.0, '1'], index: 4, type: <class 'list'>\n",
      "item: {1}, index: 5, type: <class 'set'>\n",
      "item: {1: 1.0}, index: 6, type: <class 'dict'>\n",
      "1\n",
      "1.0\n",
      "{1: 1.0}\n",
      "{1}\n",
      "[1, 1.0, '1']\n",
      "[1.0, '1', True]\n",
      "[1, '1', [1, 1.0, '1'], {1: 1.0}]\n",
      "[{1: 1.0}, {1}, [1, 1.0, '1'], True, '1', 1.0, 1]\n",
      "1.0\n"
     ]
    }
   ],
   "source": [
    "my_list = [1, 1.0, '1', True, [1, 1.0, '1'], {1}, {1:1.0}]\n",
    "print(\"The length of list is \" + str(len(my_list)))\n",
    "\n",
    "for index, item in enumerate(my_list):\n",
    "    type_i = type(item)\n",
    "    print(f\"item: {item}, index: {index}, type: {type_i}\")\n",
    "    \n",
    "print(my_list[0])\n",
    "print(my_list[1])\n",
    "\n",
    "print(my_list[-1])\n",
    "print(my_list[-2])\n",
    "\n",
    "print(my_list[:3])\n",
    "\n",
    "print(my_list[1:4])\n",
    "\n",
    "print(my_list[::2])\n",
    "\n",
    "print(my_list[::-1])\n",
    "\n",
    "print(my_list[4][1])\n"
   ]
  },
  {
   "cell_type": "code",
   "execution_count": 17,
   "id": "2f23f184-931a-462e-b847-3385657be5cf",
   "metadata": {},
   "outputs": [
    {
     "name": "stdout",
     "output_type": "stream",
     "text": [
      "[1, 1.0, '12ab', True, [1, 1.0, '1'], {1}, {1: 1.0}]\n",
      "type of {1: 1.0} is: <class 'dict'>\n",
      "[1, 1.0, '123', True, [1, 1.0, '1'], {1}, {1: 1.0}]\n",
      "[1, 1.0, '123', True, [1, 1.0, '1'], {1}, {1: 1.0}, 'tail']\n",
      "[1, 1.0, True, [1, 1.0, '1'], {1}, {1: 1.0}, 'tail']\n",
      "No\n",
      "['tail', {1: 1.0}, {1}, [1, 1.0, '1'], True, 1.0, 1]\n",
      "J_a_m_e_s\n"
     ]
    }
   ],
   "source": [
    "my_list = [1, 1.0, '12ab', True, [1, 1.0, '1'], {1}, {1: 1.0}]\n",
    "print(my_list)\n",
    "print('type of {} is: {}'.format(my_list[-1], type(my_list[-1])))\n",
    "\n",
    "\n",
    "my_list[2] = '123'\n",
    "print(my_list)\n",
    "\n",
    "my_list.append('tail')\n",
    "print(my_list)\n",
    "\n",
    "my_list.remove('123')\n",
    "print(my_list)\n",
    "\n",
    "if '123' in my_list:\n",
    "    print(\"Yes\")\n",
    "else:\n",
    "    print(\"No\")\n",
    "    \n",
    "my_list.reverse()\n",
    "print(my_list)\n",
    "\n",
    "letters = ['J', 'a', 'm', 'e', 's']\n",
    "\n",
    "word = '_'.join(letters)\n",
    "print(word)\n"
   ]
  },
  {
   "cell_type": "code",
   "execution_count": 18,
   "id": "93727a02-41f6-4297-8121-0efea4bbb667",
   "metadata": {},
   "outputs": [
    {
     "name": "stdout",
     "output_type": "stream",
     "text": [
      "['a', 'b', 'c', 'd']\n",
      "['a', 'b', 'c', 'd']\n",
      "[1, 2, 3, 4]\n"
     ]
    }
   ],
   "source": [
    "list1 = [1, 2, 3, 4]\n",
    "\n",
    "# assignment, views\n",
    "list2 = list1\n",
    "\n",
    "# copy, shallow copy\n",
    "list3 = list1.copy()\n",
    "\n",
    "list2[0] = 'a'\n",
    "list2[1] = 'b'\n",
    "list2[2] = 'c'\n",
    "list2[3] = 'd'\n",
    "\n",
    "print(list1)\n",
    "print(list2)\n",
    "print(list3)\n"
   ]
  },
  {
   "cell_type": "code",
   "execution_count": 4,
   "id": "86e2438d-72fa-43f7-97fd-203129da19d6",
   "metadata": {},
   "outputs": [
    {
     "name": "stdout",
     "output_type": "stream",
     "text": [
      "Original list\n",
      "[1, 2, 3, [4, 5]]\n",
      "New lists are: \n",
      "[1, 2, 3, [4, 5]]\n",
      "[1, 2, 'worked_0', ['deep', 5]]\n",
      "[1, 2, 3, [4, 5]]\n",
      "[1, 2, 3, [4, 5]]\n",
      "[1, 2, 3, [4, 5]]\n",
      "[1, 2, 3, [4, 5]]\n",
      "New lists are: \n",
      "[1, 2, 3, ['abc', 5]]\n",
      "[1, 2, 'worked_0', ['deep', 5]]\n",
      "[1, 2, 'worked_0', ['abc', 5]]\n",
      "[1, 2, 3, ['abc', 5]]\n",
      "[1, 2, 3, ['abc', 5]]\n",
      "[1, 2, 3, ['abc', 5]]\n",
      "New lists are: \n",
      "[1, 2, 3, ['X1', 5]]\n",
      "[1, 2, 'worked_0', ['deep', 5]]\n",
      "[1, 2, 'worked_0', ['X1', 5]]\n",
      "[1, 2, 'worked_2', ['X1', 5]]\n",
      "[1, 2, 3, ['X1', 5]]\n",
      "[1, 2, 3, ['X1', 5]]\n",
      "New lists are: \n",
      "[1, 2, 3, ['X2', 5]]\n",
      "[1, 2, 'worked_0', ['deep', 5]]\n",
      "[1, 2, 'worked_0', ['X2', 5]]\n",
      "[1, 2, 'worked_2', ['X2', 5]]\n",
      "[1, 2, 'worked_3', ['X2', 5]]\n",
      "[1, 2, 3, ['X2', 5]]\n",
      "New lists are: \n",
      "[1, 2, 3, ['X3', 5]]\n",
      "[1, 2, 'worked_0', ['deep', 5]]\n",
      "[1, 2, 'worked_0', ['X3', 5]]\n",
      "[1, 2, 'worked_2', ['X3', 5]]\n",
      "[1, 2, 'worked_3', ['X3', 5]]\n",
      "[1, 2, 'worked_4', ['X3', 5]]\n",
      "New lists are: \n",
      "[1, 2, 3, ['X3', 5]]\n",
      "[1, 2, 'worked_0', ['deep', 5]]\n",
      "[1, 2, 'worked_0', ['X3', 5]]\n",
      "[1, 2, 'worked_2', ['X3', 5]]\n",
      "[1, 2, 'worked_3', ['X3', 5]]\n",
      "[1, 2, 'worked_4', ['X3', 5]]\n"
     ]
    }
   ],
   "source": [
    "import copy\n",
    "\n",
    "list1 = [1, 2, 3, [4, 5]]\n",
    "print('Original list')\n",
    "print(list1)\n",
    "\n",
    "# Deep copy, can be used in nested list\n",
    "list_deep = copy.deepcopy(list1)\n",
    "\n",
    "# Deep copy a layer\n",
    "list2 = list1.copy()\n",
    "list3 = list1[:]\n",
    "list4 = list(list1)\n",
    "list5 = [*list1]\n",
    "# All lists print are the same.\n",
    "\n",
    "# The\n",
    "def print_lists():\n",
    "    print('New lists are: ')\n",
    "    print(list1) # Modified in list5\n",
    "    print(list_deep)\n",
    "    print(list2)\n",
    "    print(list3)\n",
    "    print(list4)\n",
    "    print(list5)\n",
    "\n",
    "# Modify element\n",
    "list_deep[3][0] = 'deep'\n",
    "list_deep[2] = 'worked_0'\n",
    "print_lists()\n",
    "\n",
    "list2[3][0] = 'abc' \n",
    "list2[2] = 'worked_0'\n",
    "print_lists()\n",
    "\n",
    "list3[3][0] = 'X1'\n",
    "list3[2] = 'worked_2'\n",
    "print_lists() # also change list2\n",
    "\n",
    "list4[3][0] = 'X2'\n",
    "list4[2] = 'worked_3'\n",
    "print_lists()\n",
    "\n",
    "list5[3][0] = 'X3'\n",
    "list5[2] = 'worked_4'\n",
    "print_lists()\n",
    "\n",
    "print_lists()\n",
    "\n",
    "\"\"\"\n",
    "这段代码主要是演示Python中浅复制和深复制在处理列表时的不同。\n",
    "\n",
    "对于列表的浅复制，如果列表中包含可变对象（例如列表、字典等），那么复制出的新列表中的这些元素实际上仍然是指向原始对象，也就是说，修改这些元素，原始列表和新列表都会受到影响。\n",
    "\n",
    "对于列表的深复制，无论列表中包含什么类型的对象，深复制都会创建一个完全独立的副本，修改新列表中的任何元素都不会影响原始列表。\n",
    "\n",
    "下面是对这段代码的具体解释：\n",
    "\n",
    "首先，创建了一个名为list1的列表，其中包含一个子列表。\n",
    "使用copy.deepcopy函数创建了list1的一个深复制副本list_deep。修改list_deep不会影响list1。\n",
    "然后，使用五种不同的方式创建了list1的浅复制：copy方法、切片操作、list函数、和扩展的序列解包。这五种方法得到的浅复制列表分别为list2、list3、list4和list5。修改这些列表中的子列表元素，会影响list1，但是修改列表中的非子列表元素（例如数字）不会影响list1。\n",
    "然后，对每个列表进行了修改并打印了所有列表的内容。因为浅复制的列表与原始列表共享子列表，所以当修改任何一个浅复制的列表中的子列表元素时，所有列表中的对应元素都会被修改。但是当修改非子列表元素时，只有被修改的那个列表会被改变，其他列表不受影响。\n",
    "所以，你会看到，每次修改任何一个浅复制的列表中的子列表元素后，所有列表中的对应元素都被修改了。而修改非子列表元素后，只有被修改的那个列表受到影响，其他列表的对应元素并未改变。而无论何时修改深复制的列表，都不会影响原始列表。\n",
    "\"\"\"\n",
    "\n"
   ]
  },
  {
   "cell_type": "code",
   "execution_count": 6,
   "id": "8c083109-c014-4852-9daa-916b303f3ee2",
   "metadata": {},
   "outputs": [
    {
     "name": "stdout",
     "output_type": "stream",
     "text": [
      "{1, 2, 3, 4, 5}\n",
      "{'orange', 'banana', 'apple'}\n"
     ]
    }
   ],
   "source": [
    "number_set = {1, 2, 3, 4, 5}\n",
    "word_set = set([\"apple\", \"banana\", \"orange\"])\n",
    "print(number_set)\n",
    "print(word_set)"
   ]
  },
  {
   "cell_type": "code",
   "execution_count": 11,
   "id": "6be0f495-fc51-493a-91f7-259ab6d7a6eb",
   "metadata": {},
   "outputs": [
    {
     "name": "stdout",
     "output_type": "stream",
     "text": [
      "{'kiwi', 'orange', 'grape', 'banana', 'apple'}\n",
      "{'kiwi', 'orange', 'grape', 'apple'}\n",
      "{'kiwi', 'orange', 'grape', 'apple'}\n"
     ]
    }
   ],
   "source": [
    "fruit_set = set([\"apple\", \"banana\"])\n",
    "fruit_set.add(\"orange\")\n",
    "fruit_set.update([\"grape\", \"kiwi\"])\n",
    "print(fruit_set)\n",
    "#fruit_set.remove(\"banana\")\n",
    "fruit_set.remove(\"banana\")\n",
    "print(fruit_set)\n",
    "fruit_set.discard(\"banana\")\n",
    "fruit_set.discard(\"banana\")\n",
    "print(fruit_set)"
   ]
  },
  {
   "cell_type": "code",
   "execution_count": 9,
   "id": "d96c2a9d-8f42-48ae-b06b-be6c684e0248",
   "metadata": {},
   "outputs": [
    {
     "name": "stdout",
     "output_type": "stream",
     "text": [
      "{3, 4}\n",
      "{1, 2, 3, 4, 5, 6}\n",
      "{1, 2}\n"
     ]
    }
   ],
   "source": [
    "set1 = {1, 2, 3, 4}\n",
    "set2 = {3, 4, 5, 6}\n",
    "print(set1 & set2)\n",
    "print(set1 | set2)\n",
    "print(set1 - set2)"
   ]
  },
  {
   "cell_type": "code",
   "execution_count": 15,
   "id": "e850314e-896e-4b98-a368-bdd632af93a3",
   "metadata": {},
   "outputs": [
    {
     "name": "stdout",
     "output_type": "stream",
     "text": [
      "James\n",
      "5\n",
      "{'name': 'James', 'age': 30, 'gender': 'male'}\n",
      "{'name': 'James', 'age': 30}\n",
      "dict_keys(['name', 'age'])\n",
      "dict_values(['James', 30])\n",
      "dict_items([('name', 'James'), ('age', 30)])\n"
     ]
    }
   ],
   "source": [
    "person = {'name': 'James', 'age': 18, 'gender': 'male'}\n",
    "\n",
    "fruits = dict(apple = 3, banana = 2, cherry = 5)\n",
    "\n",
    "print(person['name'])\n",
    "print(fruits['cherry'])\n",
    "\n",
    "person['age'] = 30\n",
    "print(person)\n",
    "\n",
    "del person['gender']\n",
    "print(person)\n",
    "\n",
    "print(person.keys())\n",
    "print(person.values())\n",
    "print(person.items())"
   ]
  },
  {
   "cell_type": "code",
   "execution_count": null,
   "id": "71618459-5064-44ee-8436-7e7770f9236a",
   "metadata": {},
   "outputs": [],
   "source": []
  }
 ],
 "metadata": {
  "kernelspec": {
   "display_name": "Python 3",
   "language": "python",
   "name": "python3"
  },
  "language_info": {
   "codemirror_mode": {
    "name": "ipython",
    "version": 3
   },
   "file_extension": ".py",
   "mimetype": "text/x-python",
   "name": "python",
   "nbconvert_exporter": "python",
   "pygments_lexer": "ipython3",
   "version": "3.10.9"
  }
 },
 "nbformat": 4,
 "nbformat_minor": 5
}
