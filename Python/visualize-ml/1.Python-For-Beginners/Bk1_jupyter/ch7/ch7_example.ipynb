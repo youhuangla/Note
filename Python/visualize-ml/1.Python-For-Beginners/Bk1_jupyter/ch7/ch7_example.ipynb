{
 "cells": [
  {
   "cell_type": "code",
   "execution_count": 1,
   "id": "4f1dc810-6441-4b8f-80b4-c4a9f1494c58",
   "metadata": {},
   "outputs": [
    {
     "name": "stdout",
     "output_type": "stream",
     "text": [
      "Pass\n"
     ]
    }
   ],
   "source": [
    "score = 95\n",
    "if score >= 60: \n",
    "    print(\"Pass\")\n",
    "else:\n",
    "    print(\"Fail\")"
   ]
  },
  {
   "cell_type": "code",
   "execution_count": 2,
   "id": "88a3cdda-7e75-40f2-a493-b8a50a926982",
   "metadata": {},
   "outputs": [
    {
     "name": "stdout",
     "output_type": "stream",
     "text": [
      "M\n",
      "a\n",
      "l\n",
      "t\n",
      "p\n",
      "l\n",
      "o\n",
      "t\n",
      "l\n",
      "i\n",
      "b\n",
      "Matplotlib\n",
      "NumPy\n",
      "Seaborn\n",
      "Pandas\n",
      "Plotly\n",
      "SK-learn\n",
      "=================\n",
      "Matplotlib\n",
      "A visualization tool\n",
      "=================\n",
      "NumPy\n",
      "=================\n",
      "Seaborn\n",
      "A visualization tool\n",
      "=================\n",
      "Pandas\n",
      "=================\n",
      "Plotly\n",
      "A visualization tool\n",
      "=================\n",
      "SK-learn\n",
      "================\n",
      "Matplotlib\n",
      "M\n",
      "a\n",
      "t\n",
      "p\n",
      "l\n",
      "o\n",
      "t\n",
      "l\n",
      "i\n",
      "b\n",
      "================\n",
      "NumPy\n",
      "N\n",
      "u\n",
      "m\n",
      "P\n",
      "y\n",
      "================\n",
      "Seaborn\n",
      "S\n",
      "e\n",
      "a\n",
      "b\n",
      "o\n",
      "r\n",
      "n\n",
      "================\n",
      "Pandas\n",
      "P\n",
      "a\n",
      "n\n",
      "d\n",
      "a\n",
      "s\n",
      "================\n",
      "Plotly\n",
      "P\n",
      "l\n",
      "o\n",
      "t\n",
      "l\n",
      "y\n",
      "================\n",
      "SK-learn\n",
      "S\n",
      "K\n",
      "-\n",
      "l\n",
      "e\n",
      "a\n",
      "r\n",
      "n\n"
     ]
    }
   ],
   "source": [
    "str_for_loop = 'Maltplotlib'\n",
    "\n",
    "for str_idx in str_for_loop:\n",
    "    print(str_idx)\n",
    "    \n",
    "list_for_loop = ['Matplotlib', 'NumPy', 'Seaborn', \n",
    "                 'Pandas', 'Plotly', 'SK-learn']\n",
    "for item_idx in list_for_loop:\n",
    "    print(item_idx)\n",
    "    \n",
    "packages_visual = ['Matplotlib', 'Seaborn', 'Plotly']\n",
    "for item_idx in list_for_loop:\n",
    "    print('=================')\n",
    "    print(item_idx)\n",
    "    if item_idx in packages_visual:\n",
    "        print('A visualization tool')\n",
    "        \n",
    "for item_idx in list_for_loop:\n",
    "    print('================')\n",
    "    print(item_idx)\n",
    "    \n",
    "    for item_idx in item_idx:\n",
    "        print(item_idx)\n",
    "\n"
   ]
  },
  {
   "cell_type": "code",
   "execution_count": 4,
   "id": "06eef28f-dff0-463a-9a8e-042251a25152",
   "metadata": {},
   "outputs": [
    {
     "name": "stdout",
     "output_type": "stream",
     "text": [
      "Exception: The divisor cannot be zero\n"
     ]
    }
   ],
   "source": [
    "try:\n",
    "    x = 1 / 0\n",
    "except ZeroDivisionError:\n",
    "        print(\"Exception: The divisor cannot be zero\")"
   ]
  },
  {
   "cell_type": "code",
   "execution_count": 5,
   "id": "5eb0403e-3184-4180-b8ff-dfc0ac297723",
   "metadata": {},
   "outputs": [
    {
     "name": "stdin",
     "output_type": "stream",
     "text": [
      "Please input a number:  60\n"
     ]
    },
    {
     "name": "stdout",
     "output_type": "stream",
     "text": [
      "Pass\n"
     ]
    }
   ],
   "source": [
    "value = input(\"Please input a number: \")\n",
    "\n",
    "if value.isdigit():\n",
    "    number = int(value)\n",
    "    \n",
    "    if 0 <= number <= 100:\n",
    "        if number < 60:\n",
    "            print(\"Failed\")\n",
    "        else:\n",
    "            print(\"Pass\")\n",
    "    else:\n",
    "        print(\"Value is not in 0~100\")\n",
    "else:\n",
    "    print(\"Input is not a value\")"
   ]
  },
  {
   "cell_type": "code",
   "execution_count": 7,
   "id": "9f8499ea-79eb-4722-a259-4eefbf5cd307",
   "metadata": {},
   "outputs": [
    {
     "name": "stdin",
     "output_type": "stream",
     "text": [
      "Input an Integer 1\n"
     ]
    },
    {
     "name": "stdout",
     "output_type": "stream",
     "text": [
      "num is positive\n"
     ]
    }
   ],
   "source": [
    "num = input('Input an Integer')\n",
    "num = int(num)\n",
    "\n",
    "if num > 0:\n",
    "    print(\"num is positive\")\n",
    "elif num < 0:\n",
    "    print(\"num is negative\")\n",
    "else:\n",
    "    print(\"num is zero\")"
   ]
  },
  {
   "cell_type": "code",
   "execution_count": 9,
   "id": "3912deed-5f33-466a-9ec9-641af171f269",
   "metadata": {},
   "outputs": [
    {
     "name": "stdout",
     "output_type": "stream",
     "text": [
      "1\n",
      "2\n"
     ]
    }
   ],
   "source": [
    "for i in range(1, 6):\n",
    "    if i == 3:\n",
    "        break\n",
    "    print(i)"
   ]
  },
  {
   "cell_type": "code",
   "execution_count": 10,
   "id": "90de43ab-e40b-4e07-a8b0-df1f499d40f4",
   "metadata": {},
   "outputs": [
    {
     "name": "stdout",
     "output_type": "stream",
     "text": [
      "1\n",
      "2\n",
      "4\n",
      "5\n"
     ]
    }
   ],
   "source": [
    "for i in range(1, 6):\n",
    "    if i == 3:\n",
    "        continue\n",
    "    print(i)"
   ]
  },
  {
   "cell_type": "code",
   "execution_count": 11,
   "id": "e244205c-c11f-4e8f-8a19-0ea13982d064",
   "metadata": {},
   "outputs": [
    {
     "name": "stdout",
     "output_type": "stream",
     "text": [
      "1\n",
      "2\n",
      "3\n",
      "4\n",
      "5\n"
     ]
    }
   ],
   "source": [
    "for i in range(1, 6):\n",
    "    pass\n",
    "    print(i)"
   ]
  },
  {
   "cell_type": "code",
   "execution_count": 14,
   "id": "96e6a2b3-499c-4f99-9448-1ca6fb108caa",
   "metadata": {},
   "outputs": [
    {
     "name": "stdout",
     "output_type": "stream",
     "text": [
      "0 apple\n",
      "1 banana\n",
      "2 cherry\n"
     ]
    }
   ],
   "source": [
    "fruits = ['apple', 'banana', 'cherry']\n",
    "for index, fruit in enumerate(fruits):\n",
    "    print(index, fruit)"
   ]
  },
  {
   "cell_type": "code",
   "execution_count": 15,
   "id": "ec6aaa47-d3f7-4add-9a76-3864548e64f6",
   "metadata": {},
   "outputs": [
    {
     "name": "stdout",
     "output_type": "stream",
     "text": [
      "1 apple\n",
      "2 banana\n",
      "3 cherry\n"
     ]
    }
   ],
   "source": [
    "fruits = ['apple', 'banana', 'cherry']\n",
    "for index, fruit in enumerate(fruits, 1):\n",
    "    print(index, fruit)"
   ]
  },
  {
   "cell_type": "code",
   "execution_count": 16,
   "id": "269501e8-db8f-4a1f-9651-e0d15b78fff5",
   "metadata": {},
   "outputs": [
    {
     "name": "stdout",
     "output_type": "stream",
     "text": [
      "Alice 80\n",
      "Bob 90\n",
      "Charlie 75\n"
     ]
    }
   ],
   "source": [
    "names = ['Alice', 'Bob', 'Charlie']\n",
    "scores = [80, 90, 75]\n",
    "\n",
    "for name, score in zip(names, scores):\n",
    "    print(name, score)"
   ]
  },
  {
   "cell_type": "code",
   "execution_count": 17,
   "id": "cdb7a38b-3e7c-43b6-9419-b6b5845326ce",
   "metadata": {},
   "outputs": [
    {
     "name": "stdout",
     "output_type": "stream",
     "text": [
      "Dot product is:  80\n"
     ]
    }
   ],
   "source": [
    "a = [1, 2, 3, 4, 5]\n",
    "b = [6, 7, 8, 9, 0]\n",
    "\n",
    "dot_product = 0\n",
    "\n",
    "for i in range(len(a)):\n",
    "    dot_product += a[i] * b[i]\n",
    "    \n",
    "print(\"Dot product is: \", dot_product)"
   ]
  },
  {
   "cell_type": "code",
   "execution_count": 18,
   "id": "eb20e54a-fa33-4407-a841-36864d235aed",
   "metadata": {},
   "outputs": [
    {
     "name": "stdout",
     "output_type": "stream",
     "text": [
      "Dot product is:  80\n"
     ]
    }
   ],
   "source": [
    "a = [1, 2, 3, 4, 5]\n",
    "b = [6, 7, 8, 9, 0]\n",
    "\n",
    "dot_product = 0\n",
    "\n",
    "for x, y in zip(a, b):\n",
    "    dot_product += x * y\n",
    "    \n",
    "print(\"Dot product is: \", dot_product)"
   ]
  },
  {
   "cell_type": "code",
   "execution_count": 1,
   "id": "45596d81-8b35-4fed-8017-73d9623e7a24",
   "metadata": {},
   "outputs": [
    {
     "name": "stdout",
     "output_type": "stream",
     "text": [
      "[1010, 404]\n",
      "[2424, 1010]\n"
     ]
    }
   ],
   "source": [
    "A = [[1, 2, 10, 20],\n",
    "     [3, 4, 30, 40]]\n",
    "\n",
    "B = [[4, 2],\n",
    "     [3, 1],\n",
    "     [40, 20],\n",
    "     [30, 10]]\n",
    "\n",
    "C = [[0, 0],\n",
    "     [0, 0]]\n",
    "\n",
    "for i in range(len(A)):\n",
    "    \n",
    "    for j in range(len(B[0])):\n",
    "        for k in range(len(B)):\n",
    "            C[i][j] += A[i][k] * B[k][j]\n",
    "            \n",
    "for row in C:\n",
    "    print(row)"
   ]
  },
  {
   "cell_type": "code",
   "execution_count": 2,
   "id": "45961dbe-6ddb-46f2-a0cc-3700b4205009",
   "metadata": {},
   "outputs": [
    {
     "name": "stdout",
     "output_type": "stream",
     "text": [
      "[2, 4, 6, 8, 10]\n"
     ]
    }
   ],
   "source": [
    "even_numbers = [num for num in range(1, 11)\n",
    "                if num % 2 == 0]\n",
    "print(even_numbers)"
   ]
  },
  {
   "cell_type": "code",
   "execution_count": 3,
   "id": "106e2d77-67d3-417b-81cd-cdb33917dc3f",
   "metadata": {},
   "outputs": [
    {
     "name": "stdout",
     "output_type": "stream",
     "text": [
      "[[1, 2, 3], [2, 4, 6], [3, 6, 9]]\n"
     ]
    }
   ],
   "source": [
    "matrix = [[i * j for j in range(1, 4)]\n",
    "          for i in range(1, 4)]\n",
    "print(matrix)"
   ]
  },
  {
   "cell_type": "code",
   "execution_count": 1,
   "id": "ea04c096-230b-4e05-ab65-ed2ddd64189d",
   "metadata": {},
   "outputs": [
    {
     "name": "stdout",
     "output_type": "stream",
     "text": [
      "Dot product of a and b is:  80\n"
     ]
    }
   ],
   "source": [
    "import numpy as np\n",
    "a = np.array([1, 2, 3, 4, 5])\n",
    "b = np.array([6, 7, 8, 9, 0])\n",
    "dot_product = np.dot(a, b)\n",
    "print(\"Dot product of a and b is: \", dot_product)"
   ]
  },
  {
   "cell_type": "code",
   "execution_count": 2,
   "id": "299f41d6-783f-4f5c-be9f-ba632f38d69a",
   "metadata": {},
   "outputs": [
    {
     "name": "stdout",
     "output_type": "stream",
     "text": [
      "[[1010  404]\n",
      " [2424 1010]]\n"
     ]
    }
   ],
   "source": [
    "import numpy as np\n",
    "A = np.array([[1, 2, 10, 20],\n",
    "     [3, 4, 30, 40]])\n",
    "\n",
    "B = np.array([[4, 2],\n",
    "     [3, 1],\n",
    "     [40, 20],\n",
    "     [30, 10]])\n",
    "\n",
    "C = A @ B\n",
    "print(C)"
   ]
  },
  {
   "cell_type": "code",
   "execution_count": 3,
   "id": "456d55c6-051f-4b63-a907-189c641ee874",
   "metadata": {},
   "outputs": [
    {
     "name": "stdout",
     "output_type": "stream",
     "text": [
      "abc\n",
      "acb\n",
      "bac\n",
      "bca\n",
      "cab\n",
      "cba\n"
     ]
    }
   ],
   "source": [
    "import itertools as it\n",
    "\n",
    "string = 'abc'\n",
    "perms_all = it.permutations(string)\n",
    "\n",
    "for perms_idx in perms_all:\n",
    "    print(''.join(perms_idx))"
   ]
  },
  {
   "cell_type": "code",
   "execution_count": 4,
   "id": "146f89ac-1078-48e0-883e-8f6887102103",
   "metadata": {},
   "outputs": [
    {
     "name": "stdout",
     "output_type": "stream",
     "text": [
      "ab\n",
      "ac\n",
      "ba\n",
      "bc\n",
      "ca\n",
      "cb\n"
     ]
    }
   ],
   "source": [
    "import itertools as it\n",
    "\n",
    "string = 'abc'\n",
    "perms_2 = it.permutations(string, 2)\n",
    "\n",
    "for perms_idx in perms_2:\n",
    "    print(''.join(perms_idx))"
   ]
  },
  {
   "cell_type": "code",
   "execution_count": 5,
   "id": "77a97c69-08e4-4e07-b81c-81d304f9396a",
   "metadata": {},
   "outputs": [
    {
     "name": "stdout",
     "output_type": "stream",
     "text": [
      "ab\n",
      "ac\n",
      "bc\n"
     ]
    }
   ],
   "source": [
    "import itertools as it\n",
    "\n",
    "string = 'abc'\n",
    "combs_2 = it.combinations(string, 2)\n",
    "\n",
    "for combo_idx in combs_2:\n",
    "    print(''.join(combo_idx))"
   ]
  },
  {
   "cell_type": "code",
   "execution_count": 6,
   "id": "a043f32e-3247-4f7d-bba4-6411fd746647",
   "metadata": {},
   "outputs": [
    {
     "name": "stdout",
     "output_type": "stream",
     "text": [
      "aa\n",
      "ab\n",
      "ac\n",
      "ba\n",
      "bb\n",
      "bc\n",
      "ca\n",
      "cb\n",
      "cc\n"
     ]
    }
   ],
   "source": [
    "import itertools as it\n",
    "\n",
    "string = 'abc'\n",
    "elements = list(string)\n",
    "repeat = 2\n",
    "\n",
    "permutations = it.product(elements, repeat = repeat)\n",
    "\n",
    "for permutation_idx in permutations:\n",
    "    print(''.join(permutation_idx))"
   ]
  },
  {
   "cell_type": "markdown",
   "id": "1abfab69-2a18-495d-a060-584435652e70",
   "metadata": {
    "tags": []
   },
   "source": [
    "## Exercise"
   ]
  },
  {
   "cell_type": "code",
   "execution_count": null,
   "id": "3010e444-d218-433a-966b-364672b8b91d",
   "metadata": {},
   "outputs": [
    {
     "name": "stdout",
     "output_type": "stream",
     "text": [
      "8\n"
     ]
    }
   ],
   "source": [
    "# 1\n",
    "int_list = [3, 5, 2, 7, 1]\n",
    "\n",
    "min = max = int_list[0]\n",
    "\n",
    "for i in int_list:\n",
    "    if i < min:\n",
    "        min = i\n",
    "    if i > max:\n",
    "        max = i\n",
    "\n",
    "print(max + min)"
   ]
  },
  {
   "cell_type": "code",
   "execution_count": null,
   "id": "86597471-4a92-4bf2-bae7-81d54563ec75",
   "metadata": {},
   "outputs": [
    {
     "name": "stdout",
     "output_type": "stream",
     "text": [
      "1\n",
      "3\n",
      "5\n",
      "7\n",
      "9\n"
     ]
    }
   ],
   "source": [
    "i = 1\n",
    "while i <= 10:\n",
    "    if (i % 2 == 1):\n",
    "        print(i)\n",
    "    i += 1"
   ]
  },
  {
   "cell_type": "code",
   "execution_count": null,
   "id": "00ee5dcc-aa0b-4803-8462-c50cf393cb35",
   "metadata": {},
   "outputs": [
    {
     "name": "stdin",
     "output_type": "stream",
     "text": [
      "Input a number:  3\n"
     ]
    },
    {
     "name": "stdout",
     "output_type": "stream",
     "text": [
      "3\n"
     ]
    }
   ],
   "source": [
    "i = input(\"Input a number: \")\n",
    "\n",
    "while (i.isdigit() == False):\n",
    "    i = input(\"Input a number: \")\n",
    "\n",
    "print(int(i))"
   ]
  },
  {
   "cell_type": "code",
   "execution_count": null,
   "id": "cadc2560-ddcf-4700-8e56-eb4e75ee5e3f",
   "metadata": {},
   "outputs": [
    {
     "name": "stdin",
     "output_type": "stream",
     "text": [
      "Input a number:  3.2\n",
      "Input a number:  1\n"
     ]
    },
    {
     "name": "stdout",
     "output_type": "stream",
     "text": [
      "1\n"
     ]
    }
   ],
   "source": [
    "i = input(\"Input a number: \")\n",
    "\n",
    "while not i.isdigit():\n",
    "    i = input(\"Input a number: \")\n",
    "\n",
    "print(int(i))"
   ]
  },
  {
   "cell_type": "code",
   "execution_count": null,
   "id": "c1757b14-3ef0-4d53-9d1a-301bc7445a56",
   "metadata": {},
   "outputs": [
    {
     "name": "stdin",
     "output_type": "stream",
     "text": [
      "Input a number:  3.1\n"
     ]
    },
    {
     "name": "stdout",
     "output_type": "stream",
     "text": [
      "Invalid input. Please enter a valid number.\n"
     ]
    },
    {
     "name": "stdin",
     "output_type": "stream",
     "text": [
      "Input a number:  3\n"
     ]
    },
    {
     "name": "stdout",
     "output_type": "stream",
     "text": [
      "3\n"
     ]
    }
   ],
   "source": [
    "i = input(\"Input a number: \")\n",
    "\n",
    "while not i.isdigit():\n",
    "    print(\"Invalid input. Please enter a valid number.\")\n",
    "    i = input(\"Input a number: \")\n",
    "\n",
    "print(int(i))\n"
   ]
  },
  {
   "cell_type": "code",
   "execution_count": null,
   "id": "71d68003-c941-4172-8eb7-cdb8a9631357",
   "metadata": {},
   "outputs": [
    {
     "name": "stdin",
     "output_type": "stream",
     "text": [
      "Input a number:  3.14\n"
     ]
    },
    {
     "name": "stdout",
     "output_type": "stream",
     "text": [
      "3\n"
     ]
    }
   ],
   "source": [
    "def is_number(s):\n",
    "    if (float(s)):\n",
    "        return True\n",
    "    else:\n",
    "        return False\n",
    "    \n",
    "i = input(\"Input a number: \")\n",
    "\n",
    "while not is_number(i):\n",
    "    i = input(\"Input a number: \")\n",
    "    \n",
    "print(int(float(i)))"
   ]
  },
  {
   "cell_type": "code",
   "execution_count": null,
   "id": "0e3d9073-7de0-48d9-a58e-f6bbe9a2cab9",
   "metadata": {},
   "outputs": [
    {
     "name": "stdout",
     "output_type": "stream",
     "text": [
      "2 3 5 7 11 13 17 19 23 29 31 37 41 43 47 53 59 61 67 71 73 79 83 89 97 "
     ]
    }
   ],
   "source": [
    "\n",
    "is_prime = [True] * 101# bool is_prime[101]\n",
    "\n",
    "for i in range(2, 100):\n",
    "    if is_prime[i] == True:\n",
    "        for j in range(2 * i, 100, i):\n",
    "            is_prime[j] = False\n",
    "\n",
    "for i in range(2, 100):\n",
    "    if (is_prime[i] == True):\n",
    "        print(i, end = \" \")"
   ]
  },
  {
   "cell_type": "code",
   "execution_count": null,
   "id": "be732aa5-de95-4191-889f-7b009b4353e8",
   "metadata": {},
   "outputs": [
    {
     "name": "stdout",
     "output_type": "stream",
     "text": [
      "[2, 3, 5, 7, 11, 13, 17, 19, 23, 29, 31, 37, 41, 43, 47, 53, 59, 61, 67, 71, 73, 79, 83, 89, 97]\n"
     ]
    }
   ],
   "source": [
    "# GPT4\n",
    "# Initialize the boolean list\n",
    "is_prime = [True] * 101\n",
    "\n",
    "# Sieve of Eratosthenes\n",
    "for i in range(2, 100):\n",
    "    if is_prime[i] == True:\n",
    "        for j in range(2 * i, 100, i):\n",
    "            is_prime[j] = False\n",
    "\n",
    "# Collect all prime numbers\n",
    "primes = [i for i in range(2, 100) if is_prime[i] == True]\n",
    "\n",
    "# Print the primes as a list\n",
    "print(primes)\n"
   ]
  },
  {
   "cell_type": "code",
   "execution_count": null,
   "id": "2fcc13ee-fef5-4516-9303-9bb2b983fcc0",
   "metadata": {},
   "outputs": [
    {
     "name": "stdout",
     "output_type": "stream",
     "text": [
      "2 3 5 7 11 13 17 19 23 29 31 37 41 43 47 53 59 61 67 71 73 79 83 89 97 "
     ]
    }
   ],
   "source": [
    "for i in range(2, 100):\n",
    "    for j in range(2, i):\n",
    "        if (i % j == 0):\n",
    "            break\n",
    "    else:\n",
    "        print(i, end = \" \")\n"
   ]
  },
  {
   "cell_type": "code",
   "execution_count": null,
   "id": "45975c50-2201-4682-8007-67d6fd8c9834",
   "metadata": {},
   "outputs": [
    {
     "name": "stdout",
     "output_type": "stream",
     "text": [
      "2 3 5 7 11 13 17 19 23 29 31 37 41 43 47 53 59 61 67 71 73 79 83 89 97 "
     ]
    }
   ],
   "source": [
    "# GPT4\n",
    "for i in range(2, 101):\n",
    "    for j in range(2, i + 1):\n",
    "        if i == j:\n",
    "            print(i, end = \" \")\n",
    "        elif (i % j != 0):\n",
    "            continue\n",
    "        else :\n",
    "            break"
   ]
  },
  {
   "cell_type": "code",
   "execution_count": null,
   "id": "134bfe4b-af78-4312-95b1-e4b17c97d745",
   "metadata": {},
   "outputs": [
    {
     "name": "stdout",
     "output_type": "stream",
     "text": [
      "2500\n"
     ]
    }
   ],
   "source": [
    "sum = 0\n",
    "for i in range(1, 100, 2):\n",
    "    sum += i\n",
    "print(sum)"
   ]
  },
  {
   "cell_type": "code",
   "execution_count": null,
   "id": "76bd1938-7200-494b-ba8d-6e286e1cff3b",
   "metadata": {},
   "outputs": [
    {
     "name": "stdout",
     "output_type": "stream",
     "text": [
      "2500\n"
     ]
    }
   ],
   "source": [
    "sum = 0\n",
    "for i in range(1, 100):\n",
    "    if not i % 2 == 0:\n",
    "        sum += i\n",
    "print(sum)"
   ]
  },
  {
   "cell_type": "code",
   "execution_count": null,
   "id": "c69bc0d2-5261-4bd5-ae52-84738fd42624",
   "metadata": {},
   "outputs": [],
   "source": []
  }
 ],
 "metadata": {
  "kernelspec": {
   "display_name": "Python 3",
   "language": "python",
   "name": "python3"
  },
  "language_info": {
   "codemirror_mode": {
    "name": "ipython",
    "version": 3
   },
   "file_extension": ".py",
   "mimetype": "text/x-python",
   "name": "python",
   "nbconvert_exporter": "python",
   "pygments_lexer": "ipython3",
   "version": "3.10.9"
  }
 },
 "nbformat": 4,
 "nbformat_minor": 5
}
